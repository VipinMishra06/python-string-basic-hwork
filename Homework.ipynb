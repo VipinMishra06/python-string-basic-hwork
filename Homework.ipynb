{
 "cells": [
  {
   "cell_type": "markdown",
   "id": "ce4c42af",
   "metadata": {},
   "source": [
    "# TODO list after lecture"
   ]
  },
  {
   "cell_type": "code",
   "execution_count": 8,
   "id": "e4973737",
   "metadata": {},
   "outputs": [],
   "source": [
    "s=\"this is my first python programming class and i am learnING python string and its function\""
   ]
  },
  {
   "cell_type": "markdown",
   "id": "e10d716c",
   "metadata": {},
   "source": [
    "# 1.Try to extract data from index one to index 300 with a jump of 3"
   ]
  },
  {
   "cell_type": "code",
   "execution_count": 9,
   "id": "b27b0cba",
   "metadata": {},
   "outputs": [
    {
     "data": {
      "text/plain": [
       "'h   r tnrrmglsnimenGyosi dtfco'"
      ]
     },
     "execution_count": 9,
     "metadata": {},
     "output_type": "execute_result"
    }
   ],
   "source": [
    "s[1:300:3]"
   ]
  },
  {
   "cell_type": "markdown",
   "id": "cc217709",
   "metadata": {},
   "source": [
    "# 2.Try to reverse function without using reverse function"
   ]
  },
  {
   "cell_type": "code",
   "execution_count": 15,
   "id": "82f4d7ec",
   "metadata": {},
   "outputs": [
    {
     "data": {
      "text/plain": [
       "'noitcnuf sti dna gnirts nohtyp GNInrael ma i dna ssalc gnimmargorp nohtyp tsrif ym si sih'"
      ]
     },
     "execution_count": 15,
     "metadata": {},
     "output_type": "execute_result"
    }
   ],
   "source": [
    "s=\"this is my first python programming class and i am learnING python string and its function\"\n",
    "s[400:0:-1]"
   ]
  },
  {
   "cell_type": "markdown",
   "id": "22c947cc",
   "metadata": {},
   "source": [
    "# 3. Try to split a string after conversion of entire string in uppercase"
   ]
  },
  {
   "cell_type": "code",
   "execution_count": 16,
   "id": "6cdf0ae5",
   "metadata": {},
   "outputs": [
    {
     "data": {
      "text/plain": [
       "'THIS IS MY FIRST PYTHON PROGRAMMING CLASS AND I AM LEARNING PYTHON STRING AND ITS FUNCTION'"
      ]
     },
     "execution_count": 16,
     "metadata": {},
     "output_type": "execute_result"
    }
   ],
   "source": [
    "s.upper()"
   ]
  },
  {
   "cell_type": "code",
   "execution_count": 21,
   "id": "ae9fe288",
   "metadata": {},
   "outputs": [
    {
     "data": {
      "text/plain": [
       "['THIS',\n",
       " 'IS',\n",
       " 'MY',\n",
       " 'FIRST',\n",
       " 'PYTHON',\n",
       " 'PROGRAMMING',\n",
       " 'CLASS',\n",
       " 'AND',\n",
       " 'I',\n",
       " 'AM',\n",
       " 'LEARNING',\n",
       " 'PYTHON',\n",
       " 'STRING',\n",
       " 'AND',\n",
       " 'ITS',\n",
       " 'FUNCTION']"
      ]
     },
     "execution_count": 21,
     "metadata": {},
     "output_type": "execute_result"
    }
   ],
   "source": [
    "s='THIS IS MY FIRST PYTHON PROGRAMMING CLASS AND I AM LEARNING PYTHON STRING AND ITS FUNCTION'\n",
    "s.split()"
   ]
  },
  {
   "cell_type": "markdown",
   "id": "1eb4aef1",
   "metadata": {},
   "source": [
    "# 4. Try to convert whole string in lower case"
   ]
  },
  {
   "cell_type": "code",
   "execution_count": 19,
   "id": "db444cde",
   "metadata": {},
   "outputs": [
    {
     "data": {
      "text/plain": [
       "'this is my first python programming class and i am learning python string and its function'"
      ]
     },
     "execution_count": 19,
     "metadata": {},
     "output_type": "execute_result"
    }
   ],
   "source": [
    "s.lower()"
   ]
  },
  {
   "cell_type": "markdown",
   "id": "73e08ae5",
   "metadata": {},
   "source": [
    "# 5.Try to capitalize the whole string"
   ]
  },
  {
   "cell_type": "code",
   "execution_count": 22,
   "id": "56097ac2",
   "metadata": {},
   "outputs": [
    {
     "data": {
      "text/plain": [
       "'This is my first python programming class and i am learning python string and its function'"
      ]
     },
     "execution_count": 22,
     "metadata": {},
     "output_type": "execute_result"
    }
   ],
   "source": [
    "s.capitalize() \n",
    "s.isalnum()"
   ]
  },
  {
   "cell_type": "markdown",
   "id": "31f6f7af",
   "metadata": {},
   "source": [
    "# 6. Difference between isalnum and isalpha"
   ]
  },
  {
   "cell_type": "raw",
   "id": "4a861bd5",
   "metadata": {},
   "source": [
    "1) ISALNUM():- String is alpha numeric if there is a combination of both alphabets as well as numericals present in string.\n",
    "2) ISALPHA():- String is alpha if there is only alphabets present in string."
   ]
  },
  {
   "cell_type": "code",
   "execution_count": 61,
   "id": "4bdc282f",
   "metadata": {},
   "outputs": [],
   "source": [
    "s='This is my first python programming class and i am learning python string and its function'"
   ]
  },
  {
   "cell_type": "code",
   "execution_count": 62,
   "id": "54d1f09c",
   "metadata": {},
   "outputs": [
    {
     "data": {
      "text/plain": [
       "False"
      ]
     },
     "execution_count": 62,
     "metadata": {},
     "output_type": "execute_result"
    }
   ],
   "source": [
    "s.isalnum()"
   ]
  },
  {
   "cell_type": "code",
   "execution_count": 63,
   "id": "b72a445d",
   "metadata": {},
   "outputs": [
    {
     "data": {
      "text/plain": [
       "False"
      ]
     },
     "execution_count": 63,
     "metadata": {},
     "output_type": "execute_result"
    }
   ],
   "source": [
    "s.isalpha()"
   ]
  },
  {
   "cell_type": "code",
   "execution_count": 65,
   "id": "88d4ceca",
   "metadata": {},
   "outputs": [
    {
     "data": {
      "text/plain": [
       "True"
      ]
     },
     "execution_count": 65,
     "metadata": {},
     "output_type": "execute_result"
    }
   ],
   "source": [
    "s='1234abc'\n",
    "s.isalnum()"
   ]
  },
  {
   "cell_type": "code",
   "execution_count": 66,
   "id": "fc9a9fdf",
   "metadata": {},
   "outputs": [
    {
     "data": {
      "text/plain": [
       "False"
      ]
     },
     "execution_count": 66,
     "metadata": {},
     "output_type": "execute_result"
    }
   ],
   "source": [
    "s.isalpha()"
   ]
  },
  {
   "cell_type": "markdown",
   "id": "c61a0c3e",
   "metadata": {},
   "source": [
    "# 7. Try to give example for expand"
   ]
  },
  {
   "cell_type": "code",
   "execution_count": 67,
   "id": "39da7967",
   "metadata": {},
   "outputs": [
    {
     "data": {
      "text/plain": [
       "'This is my first python programming class        and i am learning python string         and its function       '"
      ]
     },
     "execution_count": 67,
     "metadata": {},
     "output_type": "execute_result"
    }
   ],
   "source": [
    "s='This is my first python programming class\\t and i am learning python string\\t and its function\\t'\n",
    "s.expandtabs()"
   ]
  },
  {
   "cell_type": "markdown",
   "id": "838f5149",
   "metadata": {},
   "source": [
    "# 8. give an example for strip, lsstrip, rstrip"
   ]
  },
  {
   "cell_type": "code",
   "execution_count": 70,
   "id": "8d26e528",
   "metadata": {},
   "outputs": [
    {
     "data": {
      "text/plain": [
       "'This is my first python programming class and i am learning python string and its function'"
      ]
     },
     "execution_count": 70,
     "metadata": {},
     "output_type": "execute_result"
    }
   ],
   "source": [
    "s='   This is my first python programming class and i am learning python string and its function    '\n",
    "s.strip()"
   ]
  },
  {
   "cell_type": "code",
   "execution_count": 71,
   "id": "5962e45d",
   "metadata": {},
   "outputs": [
    {
     "data": {
      "text/plain": [
       "'This is my first python programming class and i am learning python string and its function    '"
      ]
     },
     "execution_count": 71,
     "metadata": {},
     "output_type": "execute_result"
    }
   ],
   "source": [
    "s.lstrip()"
   ]
  },
  {
   "cell_type": "code",
   "execution_count": 72,
   "id": "0848816e",
   "metadata": {},
   "outputs": [
    {
     "data": {
      "text/plain": [
       "'   This is my first python programming class and i am learning python string and its function'"
      ]
     },
     "execution_count": 72,
     "metadata": {},
     "output_type": "execute_result"
    }
   ],
   "source": [
    "s.rstrip()"
   ]
  },
  {
   "cell_type": "markdown",
   "id": "0c53afde",
   "metadata": {},
   "source": [
    "# 9. Replace a string character by another character "
   ]
  },
  {
   "cell_type": "code",
   "execution_count": 76,
   "id": "36a1b52a",
   "metadata": {},
   "outputs": [
    {
     "data": {
      "text/plain": [
       "'nipiv'"
      ]
     },
     "execution_count": 76,
     "metadata": {},
     "output_type": "execute_result"
    }
   ],
   "source": [
    "s='vipin'\n",
    "\"\".join((s))"
   ]
  },
  {
   "cell_type": "code",
   "execution_count": 77,
   "id": "16f3dd83",
   "metadata": {},
   "outputs": [
    {
     "data": {
      "text/plain": [
       "'vxixpxixn'"
      ]
     },
     "execution_count": 77,
     "metadata": {},
     "output_type": "execute_result"
    }
   ],
   "source": [
    "s='nipiv'\n",
    "'x'.join(reversed(s))"
   ]
  },
  {
   "cell_type": "markdown",
   "id": "82e5063e",
   "metadata": {},
   "source": [
    "# 10. Definition of string center function with example"
   ]
  },
  {
   "cell_type": "raw",
   "id": "1ca08d28",
   "metadata": {},
   "source": [
    "String Center function:- the specified character or number gets padded in the string."
   ]
  },
  {
   "cell_type": "code",
   "execution_count": 81,
   "id": "c55a90d2",
   "metadata": {},
   "outputs": [
    {
     "data": {
      "text/plain": [
       "'0000000nipiv00000000'"
      ]
     },
     "execution_count": 81,
     "metadata": {},
     "output_type": "execute_result"
    }
   ],
   "source": [
    "s.center(20, '0')"
   ]
  },
  {
   "cell_type": "markdown",
   "id": "542f9543",
   "metadata": {},
   "source": [
    "# 11. Definition of compiler and interpreter"
   ]
  },
  {
   "cell_type": "raw",
   "id": "dd3c81c4",
   "metadata": {},
   "source": [
    "1) Compiler:- It basically converts instruction to machine language\n",
    "2) Interpreter:- It converts instruction to intermediate language and then machine lang."
   ]
  },
  {
   "cell_type": "markdown",
   "id": "d1d61242",
   "metadata": {},
   "source": [
    "# 12.Python is interpreted of compiled language"
   ]
  },
  {
   "cell_type": "raw",
   "id": "956f97d9",
   "metadata": {},
   "source": [
    "1) Since python automatically compiles your script to compiled code, hence called byte code. And python first compiles the code and then interpreter executes it."
   ]
  },
  {
   "cell_type": "markdown",
   "id": "8ed09431",
   "metadata": {},
   "source": [
    "# 13. Usecase of python"
   ]
  },
  {
   "cell_type": "raw",
   "id": "d5027b03",
   "metadata": {},
   "source": [
    "script writing and automation. Python is great for writing APIs and interacting with database."
   ]
  },
  {
   "cell_type": "code",
   "execution_count": null,
   "id": "be9d9b06",
   "metadata": {},
   "outputs": [],
   "source": []
  }
 ],
 "metadata": {
  "kernelspec": {
   "display_name": "Python 3 (ipykernel)",
   "language": "python",
   "name": "python3"
  },
  "language_info": {
   "codemirror_mode": {
    "name": "ipython",
    "version": 3
   },
   "file_extension": ".py",
   "mimetype": "text/x-python",
   "name": "python",
   "nbconvert_exporter": "python",
   "pygments_lexer": "ipython3",
   "version": "3.9.12"
  }
 },
 "nbformat": 4,
 "nbformat_minor": 5
}
